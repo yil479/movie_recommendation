{
 "cells": [
  {
   "cell_type": "code",
   "execution_count": 0,
   "metadata": {
    "colab": {},
    "colab_type": "code",
    "collapsed": true,
    "id": "GsK2cGoxjwyg"
   },
   "outputs": [],
   "source": [
    "import pandas as pd\n",
    "import numpy as np\n",
    "import random\n",
    "import matplotlib.pyplot as plt\n",
    "from surprise import Dataset\n",
    "from surprise import accuracy\n",
    "from surprise import Reader\n",
    "from surprise.model_selection import KFold\n",
    "from surprise.model_selection import cross_validate\n",
    "import time\n",
    "import sklearn\n",
    "from sklearn.model_selection import train_test_split\n",
    "from random import shuffle\n",
    "from surprise.prediction_algorithms import NMF\n",
    "from surprise.prediction_algorithms import KNNWithMeans\n",
    "import seaborn as sns    "
   ]
  },
  {
   "cell_type": "markdown",
   "metadata": {},
   "source": [
    "### Read train and test datast"
   ]
  },
  {
   "cell_type": "code",
   "execution_count": 0,
   "metadata": {
    "colab": {},
    "colab_type": "code",
    "collapsed": true,
    "id": "BfpFT43xjwys"
   },
   "outputs": [],
   "source": [
    "train_ratings = pd.read_csv(\"train_data.csv\")\n",
    "test_ratings = pd.read_csv(\"test_data.csv\")"
   ]
  },
  {
   "cell_type": "code",
   "execution_count": 5,
   "metadata": {
    "colab": {
     "base_uri": "https://localhost:8080/",
     "height": 85
    },
    "colab_type": "code",
    "id": "efRVdpJ7jwy1",
    "outputId": "2b36510f-b3b3-435b-b8cf-47fcb6c21272"
   },
   "outputs": [
    {
     "name": "stdout",
     "output_type": "stream",
     "text": [
      "('train_minimum_rating', 0.5)\n",
      "('train_maximum_rating', 5.0)\n",
      "('test_minimum_rating', 0.5)\n",
      "('test_maximum_rating', 5.0)\n"
     ]
    }
   ],
   "source": [
    "print('train_minimum_rating',min(train_ratings['rating']))\n",
    "print('train_maximum_rating',max(train_ratings['rating']))\n",
    "print('test_minimum_rating',min(train_ratings['rating']))\n",
    "print('test_maximum_rating',max(train_ratings['rating']))"
   ]
  },
  {
   "cell_type": "code",
   "execution_count": 0,
   "metadata": {
    "colab": {},
    "colab_type": "code",
    "collapsed": true,
    "id": "bQqWKPI0jwy_"
   },
   "outputs": [],
   "source": [
    "reader = Reader(rating_scale=(0.5, 5))\n",
    "ratings = Dataset.load_from_df(train_ratings, reader)"
   ]
  },
  {
   "cell_type": "code",
   "execution_count": 0,
   "metadata": {
    "colab": {},
    "colab_type": "code",
    "collapsed": true,
    "id": "TFOshgpbjwzH"
   },
   "outputs": [],
   "source": [
    "raw_ratings = ratings.raw_ratings\n",
    "random.seed(42)\n",
    "shuffle(raw_ratings)"
   ]
  },
  {
   "cell_type": "code",
   "execution_count": 0,
   "metadata": {
    "colab": {},
    "colab_type": "code",
    "collapsed": true,
    "id": "kIBJ97uLjwzQ"
   },
   "outputs": [],
   "source": [
    "ratings.raw_ratings = raw_ratings "
   ]
  },
  {
   "cell_type": "code",
   "execution_count": 0,
   "metadata": {
    "colab": {},
    "colab_type": "code",
    "collapsed": true,
    "id": "bBagGsI8jwzU"
   },
   "outputs": [],
   "source": [
    "copy_ratings=ratings"
   ]
  },
  {
   "cell_type": "markdown",
   "metadata": {},
   "source": [
    "### define coverage function"
   ]
  },
  {
   "cell_type": "code",
   "execution_count": 0,
   "metadata": {
    "colab": {},
    "colab_type": "code",
    "collapsed": true,
    "id": "kRmbuHn5jwzZ"
   },
   "outputs": [],
   "source": [
    "def coverage(threshold1, threshold2,prediction):\n",
    "    start_time=time.time()\n",
    "    predictions = pd.DataFrame(prediction)\n",
    "    pred = predictions.groupby('uid')\n",
    "    df1= pred.apply(lambda x: x.sort_values(by=[\"est\"],ascending=False))\n",
    "    df2=df1.reset_index(drop=True)\n",
    "    df3 = df2.groupby('uid').head(10)\n",
    "\n",
    "    s1=df3[df3['r_ui'] > threshold1].groupby('uid')['r_ui'].count().reset_index()\n",
    "    s2 = df3.pivot_table(index=['uid'],aggfunc='size').reset_index()\n",
    "    s2.columns = ['uid','counts']\n",
    "\n",
    "    df=pd.merge(s1, s2, on='uid')\n",
    "\n",
    "    # #number of high true rating(larger than 4) devided by top N predictions\n",
    "    df['rate']=df['r_ui']/df['counts']\n",
    "\n",
    "    user_coverage=float(sum(df['rate']> threshold2))/df3['uid'].nunique()\n",
    "\n",
    "    item=df3.groupby('iid').apply(lambda x: x.sort_values(by=[\"est\"],ascending=False)).reset_index(drop=True)\n",
    "\n",
    "    s=item[item['r_ui'] > threshold1].groupby('iid')['r_ui'].count().reset_index()\n",
    "    ss = item.pivot_table(index=['iid'],aggfunc='size').reset_index()\n",
    "    ss.columns = ['iid','counts']\n",
    "    dff=pd.merge(s, ss, on='iid')\n",
    "    dff['rate']=dff['r_ui']/dff['counts']\n",
    "    item_coverage=float(sum(dff['rate']> threshold2))/df3['iid'].nunique()\n",
    "\n",
    "    catalog_coverage = float(df3['iid'].nunique())/predictions['iid'].nunique()\n",
    "    end_time=time.time()\n",
    "    duration=end_time-start_time\n",
    "    return user_coverage, item_coverage, catalog_coverage,duration\n"
   ]
  },
  {
   "cell_type": "markdown",
   "metadata": {},
   "source": [
    "#### First we run a 5-fold cv on the train set to see some preliminary results."
   ]
  },
  {
   "cell_type": "code",
   "execution_count": 0,
   "metadata": {
    "colab": {},
    "colab_type": "code",
    "id": "ZuK8F6mmjwzd",
    "outputId": "0d3caacd-4872-42db-eb7a-5de6eb1e5078",
    "scrolled": false
   },
   "outputs": [
    {
     "name": "stdout",
     "output_type": "stream",
     "text": [
      "Computing the msd similarity matrix...\n",
      "Done computing similarity matrix.\n",
      "Computing the msd similarity matrix...\n",
      "Done computing similarity matrix.\n",
      "Computing the msd similarity matrix...\n",
      "Done computing similarity matrix.\n",
      "Computing the msd similarity matrix...\n",
      "Done computing similarity matrix.\n",
      "Computing the msd similarity matrix...\n",
      "Done computing similarity matrix.\n",
      "Evaluating RMSE, MAE of algorithm KNNWithMeans on 5 split(s).\n",
      "\n",
      "                  Fold 1  Fold 2  Fold 3  Fold 4  Fold 5  Mean    Std     \n",
      "MAE (testset)     0.6896  0.6839  0.6860  0.6854  0.6848  0.6859  0.0019  \n",
      "RMSE (testset)    0.8932  0.8853  0.8891  0.8883  0.8863  0.8884  0.0027  \n",
      "Fit time          52.61   55.89   48.68   47.90   43.54   49.72   4.22    \n",
      "Test time         229.95  195.13  206.80  185.43  179.84  199.43  17.80   \n"
     ]
    }
   ],
   "source": [
    "method = KNNWithMeans()\n",
    "cross_val = cross_validate(method, ratings, measures=['RMSE', 'MAE'], cv=5, verbose=True)"
   ]
  },
  {
   "cell_type": "markdown",
   "metadata": {},
   "source": [
    "### cross-validation on similarity measure"
   ]
  },
  {
   "cell_type": "code",
   "execution_count": 0,
   "metadata": {
    "colab": {},
    "colab_type": "code",
    "collapsed": true,
    "id": "-OEZmQW1jwzh"
   },
   "outputs": [],
   "source": [
    "def try_similarity(options): \n",
    "    method = KNNWithMeans(sim_option=options)\n",
    "    cross_val = cross_validate(method, ratings, measures=['RMSE', 'MAE'], return_train_measures=True,cv=5, verbose=False)\n",
    "    \n",
    "    train_mae=np.mean(cross_val['train_mae'])\n",
    "    train_rmse=np.mean(cross_val['train_rmse'])\n",
    "    \n",
    "    val_mae=np.mean(cross_val['test_mae'])\n",
    "    val_rmse=np.mean(cross_val['test_rmse'])\n",
    "    \n",
    "\n",
    "    return train_rmse,train_mae,val_rmse,val_mae"
   ]
  },
  {
   "cell_type": "code",
   "execution_count": 29,
   "metadata": {
    "colab": {
     "base_uri": "https://localhost:8080/",
     "height": 635
    },
    "colab_type": "code",
    "id": "UklEIRICjwzj",
    "outputId": "a23df41e-f3c6-4fab-d8e5-7ed02b423385"
   },
   "outputs": [
    {
     "name": "stdout",
     "output_type": "stream",
     "text": [
      "('similarity measure is', 'pearson')\n",
      "Computing the msd similarity matrix...\n",
      "Done computing similarity matrix.\n",
      "Computing the msd similarity matrix...\n",
      "Done computing similarity matrix.\n",
      "Computing the msd similarity matrix...\n",
      "Done computing similarity matrix.\n",
      "Computing the msd similarity matrix...\n",
      "Done computing similarity matrix.\n",
      "Computing the msd similarity matrix...\n",
      "Done computing similarity matrix.\n",
      "('similarity measure is', 'pearson_baseline')\n",
      "Computing the msd similarity matrix...\n",
      "Done computing similarity matrix.\n",
      "Computing the msd similarity matrix...\n",
      "Done computing similarity matrix.\n",
      "Computing the msd similarity matrix...\n",
      "Done computing similarity matrix.\n",
      "Computing the msd similarity matrix...\n",
      "Done computing similarity matrix.\n",
      "Computing the msd similarity matrix...\n",
      "Done computing similarity matrix.\n",
      "('similarity measure is', 'cosine')\n",
      "Computing the msd similarity matrix...\n",
      "Done computing similarity matrix.\n",
      "Computing the msd similarity matrix...\n",
      "Done computing similarity matrix.\n",
      "Computing the msd similarity matrix...\n",
      "Done computing similarity matrix.\n",
      "Computing the msd similarity matrix...\n",
      "Done computing similarity matrix.\n",
      "Computing the msd similarity matrix...\n",
      "Done computing similarity matrix.\n",
      "('similarity  measure that produce the smallest rmse are', {'name': 'pearson_baseline', 'user_based': False})\n"
     ]
    }
   ],
   "source": [
    "train_rmse_list2=[]\n",
    "train_mae_list2=[]\n",
    "val_rmse_list2=[]\n",
    "val_mae_list2=[]\n",
    "\n",
    "\n",
    "\n",
    "similarity_measure = {\n",
    "    'cosine': {\n",
    "         'name': 'cosine',\n",
    "         'user_based': False \n",
    "         },\n",
    "    'pearson_baseline': {\n",
    "         'name': 'pearson_baseline',\n",
    "         'user_based': False \n",
    "         },\n",
    "    'pearson': {\n",
    "         'name': 'pearson',\n",
    "         'user_based': False\n",
    "         }\n",
    "         }\n",
    "\n",
    "_min=float('inf')\n",
    "\n",
    "for k, v in similarity_measure.items():\n",
    "        \n",
    "  \n",
    "    print('similarity measure is', k)\n",
    "        \n",
    "\n",
    "    train_rmse,train_mae,val_rmse,val_mae=try_similarity(v)\n",
    "    train_rmse_list2.append(train_rmse)\n",
    "    train_mae_list2.append(train_mae)\n",
    "   \n",
    "    val_rmse_list2.append(val_rmse)\n",
    "    val_mae_list2.append(val_mae)\n",
    "    if val_rmse<_min:\n",
    "        _min=val_rmse\n",
    "        _similarity_measure=v\n",
    "        \n",
    "        \n",
    "\n",
    "        \n",
    "        \n",
    "print(\"similarity  measure that produce the smallest rmse are\",_similarity_measure)"
   ]
  },
  {
   "cell_type": "code",
   "execution_count": 31,
   "metadata": {
    "colab": {
     "base_uri": "https://localhost:8080/",
     "height": 34
    },
    "colab_type": "code",
    "id": "eHooxdtL4phF",
    "outputId": "926011fd-c4ba-429c-d7b2-30cdae3b14c6"
   },
   "outputs": [
    {
     "data": {
      "text/plain": [
       "[0.5742714680792438, 0.5742435830705317, 0.574299879424325]"
      ]
     },
     "execution_count": 31,
     "metadata": {
      "tags": []
     },
     "output_type": "execute_result"
    }
   ],
   "source": [
    "train_rmse_list2"
   ]
  },
  {
   "cell_type": "code",
   "execution_count": 61,
   "metadata": {
    "colab": {
     "base_uri": "https://localhost:8080/",
     "height": 282
    },
    "colab_type": "code",
    "id": "arqtY8AhZGs3",
    "outputId": "51043bac-92da-4cb5-8db2-2d5bf965d939"
   },
   "outputs": [
    {
     "data": {
      "image/png": "[encoded data removed]",
      "text/plain": [
       "<Figure size 432x288 with 1 Axes>"
      ]
     },
     "metadata": {
      "tags": []
     },
     "output_type": "display_data"
    }
   ],
   "source": [
    "measure_list=['cosine', 'pearson_baseline', 'pearson']\n",
    "lines = plt.plot(measure_list,train_rmse_list2)\n",
    "plt.setp(lines[0], linewidth=4)\n",
    "#plt.setp(lines[1], linewidth=2)\n",
    "#plt.setp(lines[2], markersize=10)\n",
    "plt.ylim(0.574, 0.5745)\n",
    "# plt.legend(('train_mae', 'test_mae'),\n",
    "#            loc='upper right')\n",
    "plt.title('train-similarity vs RSME')\n",
    "plt.savefig('train-similarity vs RSME.jpg')\n",
    "plt.show()"
   ]
  },
  {
   "cell_type": "code",
   "execution_count": 59,
   "metadata": {
    "colab": {
     "base_uri": "https://localhost:8080/",
     "height": 34
    },
    "colab_type": "code",
    "id": "G_v1UpMd-2TZ",
    "outputId": "8e725881-9183-4dd6-fced-151e6da2e061"
   },
   "outputs": [
    {
     "data": {
      "text/plain": [
       "[0.8882402636248046, 0.8880093120223037, 0.8880535904651804]"
      ]
     },
     "execution_count": 59,
     "metadata": {
      "tags": []
     },
     "output_type": "execute_result"
    }
   ],
   "source": [
    "val_rmse_list2"
   ]
  },
  {
   "cell_type": "code",
   "execution_count": 62,
   "metadata": {
    "colab": {
     "base_uri": "https://localhost:8080/",
     "height": 282
    },
    "colab_type": "code",
    "id": "kIQcJTay-vCJ",
    "outputId": "3cc52466-a2ac-44b1-a048-ac532293e73d"
   },
   "outputs": [
    {
     "data": {
      "image/png": "[encoded data removed]",
      "text/plain": [
       "<Figure size 432x288 with 1 Axes>"
      ]
     },
     "metadata": {
      "tags": []
     },
     "output_type": "display_data"
    }
   ],
   "source": [
    "measure_list=['cosine', 'pearson_baseline', 'pearson']\n",
    "lines = plt.plot(measure_list,val_rmse_list2)\n",
    "plt.setp(lines[0], linewidth=4)\n",
    "#plt.setp(lines[1], linewidth=2)\n",
    "#plt.setp(lines[2], markersize=10)\n",
    "plt.ylim(0.888, 0.8883)\n",
    "# plt.legend(('train_mae', 'test_mae'),\n",
    "#            loc='upper right')\n",
    "plt.title('validation-similarity vs RSME')\n",
    "plt.savefig('validation-similarity vs RSME.jpg')\n",
    "plt.show()"
   ]
  },
  {
   "cell_type": "code",
   "execution_count": 63,
   "metadata": {
    "colab": {
     "base_uri": "https://localhost:8080/",
     "height": 34
    },
    "colab_type": "code",
    "id": "1Bt4-s2dYrjc",
    "outputId": "5ce1ead7-0823-480d-8631-9e4f833c6bee"
   },
   "outputs": [
    {
     "data": {
      "text/plain": [
       "[0.6860475819568472, 0.6857530678860657, 0.6857958678485091]"
      ]
     },
     "execution_count": 63,
     "metadata": {
      "tags": []
     },
     "output_type": "execute_result"
    }
   ],
   "source": [
    "val_mae_list2"
   ]
  },
  {
   "cell_type": "code",
   "execution_count": 65,
   "metadata": {
    "colab": {
     "base_uri": "https://localhost:8080/",
     "height": 282
    },
    "colab_type": "code",
    "id": "TUo19j89_VJe",
    "outputId": "147f0652-ec3d-435b-93c8-95e3e20fa42f"
   },
   "outputs": [
    {
     "data": {
      "image/png": "[encoded data removed]",
      "text/plain": [
       "<Figure size 432x288 with 1 Axes>"
      ]
     },
     "metadata": {
      "tags": []
     },
     "output_type": "display_data"
    }
   ],
   "source": [
    "measure_list=['cosine', 'pearson_baseline', 'pearson']\n",
    "lines = plt.plot(measure_list,val_mae_list2)\n",
    "plt.setp(lines[0], linewidth=4)\n",
    "#plt.setp(lines[1], linewidth=2)\n",
    "#plt.setp(lines[2], markersize=10)\n",
    "plt.ylim(0.6855, 0.687)\n",
    "# plt.legend(('train_mae', 'test_mae'),\n",
    "#            loc='upper right')\n",
    "plt.title('validation-similarity vs MAE')\n",
    "plt.savefig('validation-similarity vs MAE.jpg')\n",
    "plt.show()"
   ]
  },
  {
   "cell_type": "markdown",
   "metadata": {},
   "source": [
    "### cross-validation on neighborhood size"
   ]
  },
  {
   "cell_type": "code",
   "execution_count": 0,
   "metadata": {
    "colab": {},
    "colab_type": "code",
    "collapsed": true,
    "id": "xLUwEiZRjwzm"
   },
   "outputs": [],
   "source": [
    "def try_neighbor(kNeighbor,_similarity_measure): \n",
    "    method = KNNWithMeans(min_k=kNeighbor,sim_option=_similarity_measure)\n",
    "    cross_val = cross_validate(method, ratings, measures=['RMSE', 'MAE'], return_train_measures=True,cv=5, verbose=False)\n",
    "    \n",
    "    train_mae=np.mean(cross_val['train_mae'])\n",
    "    train_rmse=np.mean(cross_val['train_rmse'])\n",
    "    \n",
    "    val_mae=np.mean(cross_val['test_mae'])\n",
    "    val_rmse=np.mean(cross_val['test_rmse'])\n",
    "    \n",
    "\n",
    "    return train_rmse,train_mae,val_rmse,val_mae"
   ]
  },
  {
   "cell_type": "code",
   "execution_count": 27,
   "metadata": {},
   "outputs": [
    {
     "name": "stdout",
     "output_type": "stream",
     "text": [
      "('number of neighbor', 5)\n",
      "Computing the msd similarity matrix...\n",
      "Done computing similarity matrix.\n",
      "Computing the msd similarity matrix...\n",
      "Done computing similarity matrix.\n",
      "Computing the msd similarity matrix...\n",
      "Done computing similarity matrix.\n",
      "Computing the msd similarity matrix...\n",
      "Done computing similarity matrix.\n",
      "Computing the msd similarity matrix...\n",
      "Done computing similarity matrix.\n",
      "('number of neighbor', 15)\n",
      "Computing the msd similarity matrix...\n",
      "Done computing similarity matrix.\n",
      "Computing the msd similarity matrix...\n",
      "Done computing similarity matrix.\n",
      "Computing the msd similarity matrix...\n",
      "Done computing similarity matrix.\n",
      "Computing the msd similarity matrix...\n",
      "Done computing similarity matrix.\n",
      "Computing the msd similarity matrix...\n",
      "Done computing similarity matrix.\n",
      "('number of neighbor', 25)\n",
      "Computing the msd similarity matrix...\n",
      "Done computing similarity matrix.\n",
      "Computing the msd similarity matrix...\n",
      "Done computing similarity matrix.\n",
      "Computing the msd similarity matrix...\n",
      "Done computing similarity matrix.\n",
      "Computing the msd similarity matrix...\n",
      "Done computing similarity matrix.\n",
      "Computing the msd similarity matrix...\n",
      "Done computing similarity matrix.\n",
      "('number of neighbor', 35)\n",
      "Computing the msd similarity matrix...\n",
      "Done computing similarity matrix.\n",
      "Computing the msd similarity matrix...\n",
      "Done computing similarity matrix.\n",
      "Computing the msd similarity matrix...\n",
      "Done computing similarity matrix.\n",
      "Computing the msd similarity matrix...\n",
      "Done computing similarity matrix.\n",
      "Computing the msd similarity matrix...\n",
      "Done computing similarity matrix.\n",
      "('number of neighbor', 45)\n",
      "Computing the msd similarity matrix...\n",
      "Done computing similarity matrix.\n",
      "Computing the msd similarity matrix...\n",
      "Done computing similarity matrix.\n",
      "Computing the msd similarity matrix...\n",
      "Done computing similarity matrix.\n",
      "Computing the msd similarity matrix...\n",
      "Done computing similarity matrix.\n",
      "Computing the msd similarity matrix...\n",
      "Done computing similarity matrix.\n",
      "('number of neighbor', 55)\n",
      "Computing the msd similarity matrix...\n",
      "Done computing similarity matrix.\n",
      "Computing the msd similarity matrix...\n",
      "Done computing similarity matrix.\n",
      "Computing the msd similarity matrix...\n",
      "Done computing similarity matrix.\n",
      "Computing the msd similarity matrix...\n",
      "Done computing similarity matrix.\n",
      "Computing the msd similarity matrix...\n",
      "Done computing similarity matrix.\n",
      "('number of neighbor', 65)\n",
      "Computing the msd similarity matrix...\n",
      "Done computing similarity matrix.\n",
      "Computing the msd similarity matrix...\n",
      "Done computing similarity matrix.\n",
      "Computing the msd similarity matrix...\n",
      "Done computing similarity matrix.\n",
      "Computing the msd similarity matrix...\n",
      "Done computing similarity matrix.\n",
      "Computing the msd similarity matrix...\n",
      "Done computing similarity matrix.\n",
      "('number of neighbor that produce the smallest rmse are', 5)\n"
     ]
    }
   ],
   "source": [
    "train_rmse_list=[]\n",
    "train_mae_list=[]\n",
    "val_rmse_list=[]\n",
    "val_mae_list=[]\n",
    "\n",
    "\n",
    "neighbor_num = np.arange(5, 70 , 10)\n",
    "\n",
    "_min=float('inf')\n",
    "for num in neighbor_num:\n",
    "    \n",
    "        \n",
    "    print('number of neighbor', num)\n",
    "       \n",
    "        \n",
    "\n",
    "    train_rmse,train_mae,val_rmse,val_mae=try_neighbor(num,{'name': 'pearson_baseline', 'user_based': False})\n",
    "    train_rmse_list.append(train_rmse)\n",
    "    train_mae_list.append(train_mae)\n",
    "   \n",
    "    val_rmse_list.append(val_rmse)\n",
    "    val_mae_list.append(val_mae)\n",
    "    if val_rmse<_min:\n",
    "        _min=val_rmse\n",
    "        _num=num\n",
    "            \n",
    "        \n",
    "        \n",
    "        \n",
    "    \n",
    "        \n",
    "        \n",
    "print(\"number of neighbor that produce the smallest rmse are\", _num)"
   ]
  },
  {
   "cell_type": "code",
   "execution_count": 33,
   "metadata": {},
   "outputs": [
    {
     "data": {
      "image/png": "[encoded data removed]",
      "text/plain": [
       "<matplotlib.figure.Figure at 0x1a1909bd10>"
      ]
     },
     "metadata": {},
     "output_type": "display_data"
    }
   ],
   "source": [
    "lines = plt.plot(neighbor_num,val_rmse_list)\n",
    "plt.setp(lines[0], linewidth=4)\n",
    "\n",
    "plt.ylim(0.887, 0.975)\n",
    "\n",
    "plt.title('validation-neighbor size vs RMSE')\n",
    "plt.savefig('validation-neighborsize_vs_RMSE.jpg')\n",
    "plt.show()"
   ]
  },
  {
   "cell_type": "code",
   "execution_count": 36,
   "metadata": {},
   "outputs": [
    {
     "data": {
      "image/png": "[encoded data removed]",
      "text/plain": [
       "<matplotlib.figure.Figure at 0x1a1ffe51d0>"
      ]
     },
     "metadata": {},
     "output_type": "display_data"
    }
   ],
   "source": [
    "lines = plt.plot(neighbor_num,val_mae_list)\n",
    "plt.setp(lines[0], linewidth=4)\n",
    "\n",
    "plt.ylim(0.684, 0.762)\n",
    "\n",
    "plt.title('validation-neighbor size vs MAE')\n",
    "plt.savefig('validation-neighborsize_vs_MAE.jpg')\n",
    "plt.show()"
   ]
  },
  {
   "cell_type": "markdown",
   "metadata": {
    "colab_type": "text",
    "id": "ddO4-Bjhjwzt"
   },
   "source": [
    "### evaluate on test set with the parameters we searched"
   ]
  },
  {
   "cell_type": "code",
   "execution_count": 37,
   "metadata": {
    "collapsed": true
   },
   "outputs": [],
   "source": [
    "train_ratings = pd.read_csv(\"train_data.csv\")\n",
    "test_ratings = pd.read_csv(\"test_data.csv\")\n",
    "reader = Reader(rating_scale=(0.5, 5))\n",
    "ratings = Dataset.load_from_df(train_ratings, reader)\n",
    "raw_ratings = ratings.raw_ratings\n",
    "random.seed(42)\n",
    "shuffle(raw_ratings)\n",
    "ratings.raw_ratings = raw_ratings \n",
    "\n",
    "train_set = ratings.build_full_trainset()\n",
    "reader = Reader(rating_scale=(0.5, 5))\n",
    "test_rates = Dataset.load_from_df(test_ratings, reader)\n",
    "test=test_rates.raw_ratings\n",
    "test_set = ratings.construct_testset(test)"
   ]
  },
  {
   "cell_type": "code",
   "execution_count": 38,
   "metadata": {},
   "outputs": [
    {
     "name": "stdout",
     "output_type": "stream",
     "text": [
      "Computing the msd similarity matrix...\n",
      "Done computing similarity matrix.\n",
      "RMSE: 0.8868\n",
      "MAE:  0.6843\n"
     ]
    }
   ],
   "source": [
    "method = KNNWithMeans(min_k=5,sim_option={\n",
    "         'name': 'pearson_baseline',\n",
    "         'user_based': False \n",
    "         })\n",
    "method.fit(train_set)\n",
    "test_result = method.test(test_set)\n",
    "test_rmse = accuracy.rmse(test_result)\n",
    "test_mae = accuracy.mae(test_result)\n",
    "r_user_coverage,r_item_coverage,r_catelog_coverage,_=coverage(4.0, 0.5,test_result)"
   ]
  },
  {
   "cell_type": "code",
   "execution_count": 39,
   "metadata": {},
   "outputs": [
    {
     "name": "stdout",
     "output_type": "stream",
     "text": [
      "(0.17297840281265695, 0.090234375, 0.8539026017344896)\n"
     ]
    }
   ],
   "source": [
    "print(r_user_coverage,r_item_coverage,r_catelog_coverage)"
   ]
  },
  {
   "cell_type": "markdown",
   "metadata": {},
   "source": [
    "### Evaluate the relationship between running time and scale of dataset"
   ]
  },
  {
   "cell_type": "code",
   "execution_count": 0,
   "metadata": {
    "colab": {},
    "colab_type": "code",
    "collapsed": true,
    "id": "U1jc0dC6jwz5"
   },
   "outputs": [],
   "source": [
    "train_ratings = pd.read_csv(\"train_data.csv\")\n",
    "test_ratings = pd.read_csv(\"test_data.csv\")"
   ]
  },
  {
   "cell_type": "code",
   "execution_count": 0,
   "metadata": {
    "colab": {},
    "colab_type": "code",
    "collapsed": true,
    "id": "AzF1KJzDjwz9"
   },
   "outputs": [],
   "source": [
    "reader = Reader(rating_scale=(0.5, 5))\n",
    "ratings = Dataset.load_from_df(train_ratings, reader)\n",
    "raw_ratings = ratings.raw_ratings\n",
    "random.seed(42)\n",
    "shuffle(raw_ratings)\n",
    "ratings.raw_ratings = raw_ratings \n",
    "copy_ratings=ratings"
   ]
  },
  {
   "cell_type": "code",
   "execution_count": 0,
   "metadata": {
    "colab": {},
    "colab_type": "code",
    "collapsed": true,
    "id": "UIIxdQTpjw0C"
   },
   "outputs": [],
   "source": [
    "def default_knn(train_set,test_set):\n",
    "    start_time = time.time()\n",
    "    method = KNNWithMeans()\n",
    "    method.fit(train_set)\n",
    "    \n",
    "    print('evaluate on train set')\n",
    "    train_result = method.test(train_set.build_testset())\n",
    "    train_rmse = accuracy.rmse(train_result)\n",
    "    train_mae = accuracy.mae(train_result)\n",
    "    r_user_coverage,r_item_coverage,r_catelog_coverage,_=coverage(4.0, 0.5,train_result)\n",
    "    \n",
    "    print('evaluate on test set')\n",
    "    test_result = method.test(test_set)\n",
    "    #print(len(test_result))\n",
    "    test_rmse = accuracy.rmse(test_result)\n",
    "    test_mae = accuracy.mae(test_result)\n",
    "    \n",
    "    e_user_coverage,e_item_coverage,e_catelog_coverage,_=coverage(4.0, 0.5,test_result)\n",
    "    return train_rmse,test_rmse,train_mae,test_mae,\\\n",
    "r_user_coverage,r_item_coverage,r_catelog_coverage,\\\n",
    "e_user_coverage,e_item_coverage,e_catelog_coverage"
   ]
  },
  {
   "cell_type": "code",
   "execution_count": 0,
   "metadata": {
    "colab": {},
    "colab_type": "code",
    "collapsed": true,
    "id": "zU-4UAi4jw0H"
   },
   "outputs": [],
   "source": [
    "def change_size(size,copy_ratings):\n",
    "    use_rating=copy_ratings\n",
    "    \n",
    "    use_raw_ratings = use_rating.raw_ratings\n",
    "#    print(len(use_raw_ratings))\n",
    "#     random.seed(42)\n",
    "#     shuffle(use_raw_ratings)\n",
    "    \n",
    "    use_part, holdout_group= train_test_split(use_raw_ratings, test_size=size, random_state=50)\n",
    "    train, test= train_test_split(use_part, test_size=0.2, random_state=50)\n",
    "    #train, test= train_test_split(use_part, test_size=0.15, random_state=42)\n",
    "    #print(train)\n",
    "    use_rating.raw_ratings = train\n",
    "    train_set = use_rating.build_full_trainset()\n",
    "    test_set = use_rating.construct_testset(test)\n",
    "    \n",
    "    start_time = time.time()\n",
    "    print('use'+\" \"+str(round((1-size)*100,2))+\"% of data\")\n",
    "    train_rmse,test_rmse,train_mae,test_mae,\\\n",
    "    r_user_coverage,r_item_coverage,r_catelog_coverage,\\\n",
    "    e_user_coverage,e_item_coverage,e_catelog_coverage =default_knn(train_set,test_set)\n",
    "    \n",
    "    end_time = time.time()\n",
    "    \n",
    "    duration=end_time-start_time\n",
    "    return train_rmse,test_rmse,train_mae,test_mae,duration,\\\n",
    "r_user_coverage,r_item_coverage,r_catelog_coverage,\\\n",
    "e_user_coverage,e_item_coverage,e_catelog_coverage"
   ]
  },
  {
   "cell_type": "code",
   "execution_count": 15,
   "metadata": {
    "colab": {
     "base_uri": "https://localhost:8080/",
     "height": 1000
    },
    "colab_type": "code",
    "id": "t-3D-UMkjw0J",
    "outputId": "6cff8b95-057a-45f9-aeb8-14fd6ba89dd8"
   },
   "outputs": [
    {
     "name": "stdout",
     "output_type": "stream",
     "text": [
      "use 90.0% of data\n",
      "Computing the msd similarity matrix...\n",
      "Done computing similarity matrix.\n",
      "evaluate on train set\n",
      "RMSE: 0.5677\n",
      "MAE:  0.4209\n",
      "evaluate on test set\n",
      "RMSE: 0.8889\n",
      "MAE:  0.6855\n",
      "('duration is', 442.4302878379822)\n",
      "use 80.0% of data\n",
      "Computing the msd similarity matrix...\n",
      "Done computing similarity matrix.\n",
      "evaluate on train set\n",
      "RMSE: 0.5607\n",
      "MAE:  0.4156\n",
      "evaluate on test set\n",
      "RMSE: 0.8910\n",
      "MAE:  0.6875\n",
      "('duration is', 376.3689777851105)\n",
      "use 70.0% of data\n",
      "Computing the msd similarity matrix...\n",
      "Done computing similarity matrix.\n",
      "evaluate on train set\n",
      "RMSE: 0.5543\n",
      "MAE:  0.4108\n",
      "evaluate on test set\n",
      "RMSE: 0.8943\n",
      "MAE:  0.6888\n",
      "('duration is', 300.5175588130951)\n",
      "use 60.0% of data\n",
      "Computing the msd similarity matrix...\n",
      "Done computing similarity matrix.\n",
      "evaluate on train set\n",
      "RMSE: 0.5486\n",
      "MAE:  0.4065\n",
      "evaluate on test set\n",
      "RMSE: 0.9002\n",
      "MAE:  0.6926\n",
      "('duration is', 225.91154599189758)\n",
      "use 50.0% of data\n",
      "Computing the msd similarity matrix...\n",
      "Done computing similarity matrix.\n",
      "evaluate on train set\n",
      "RMSE: 0.5435\n",
      "MAE:  0.4033\n",
      "evaluate on test set\n",
      "RMSE: 0.9056\n",
      "MAE:  0.6966\n",
      "('duration is', 163.902508020401)\n",
      "use 40.0% of data\n",
      "Computing the msd similarity matrix...\n",
      "Done computing similarity matrix.\n",
      "evaluate on train set\n",
      "RMSE: 0.5409\n",
      "MAE:  0.4030\n",
      "evaluate on test set\n",
      "RMSE: 0.9122\n",
      "MAE:  0.7006\n",
      "('duration is', 110.61429595947266)\n",
      "use 30.0% of data\n",
      "Computing the msd similarity matrix...\n",
      "Done computing similarity matrix.\n",
      "evaluate on train set\n",
      "RMSE: 0.5374\n",
      "MAE:  0.4026\n",
      "evaluate on test set\n",
      "RMSE: 0.9322\n",
      "MAE:  0.7135\n",
      "('duration is', 73.14063787460327)\n",
      "use 20.0% of data\n",
      "Computing the msd similarity matrix...\n",
      "Done computing similarity matrix.\n",
      "evaluate on train set\n",
      "RMSE: 0.5361\n",
      "MAE:  0.4051\n",
      "evaluate on test set\n",
      "RMSE: 0.9677\n",
      "MAE:  0.7372\n",
      "('duration is', 43.750141859054565)\n",
      "use 10.0% of data\n",
      "Computing the msd similarity matrix...\n",
      "Done computing similarity matrix.\n",
      "evaluate on train set\n",
      "RMSE: 0.5347\n",
      "MAE:  0.4054\n",
      "evaluate on test set\n",
      "RMSE: 1.0760\n",
      "MAE:  0.8234\n",
      "('duration is', 23.693558931350708)\n"
     ]
    }
   ],
   "source": [
    "size_train_rmse_list=[]\n",
    "size_train_mae_list=[]\n",
    "size_test_rmse_list=[]\n",
    "size_test_mae_list=[]\n",
    "size_e_u_cov=[]\n",
    "size_e_i_cov=[]\n",
    "size_e_c_cov=[]\n",
    "size_r_u_cov=[]\n",
    "size_r_i_cov=[]\n",
    "size_r_c_cov=[]\n",
    "size_list = np.arange(0.1, 1.0, 0.1)\n",
    "duration_list=[]\n",
    "for size in size_list:\n",
    "    reader = Reader(rating_scale=(0.5, 5))\n",
    "    ratings = Dataset.load_from_df(train_ratings, reader)\n",
    "    raw_ratings = ratings.raw_ratings\n",
    "    random.seed(42)\n",
    "    shuffle(raw_ratings)\n",
    "    ratings.raw_ratings = raw_ratings \n",
    "    copy_ratings=ratings\n",
    "    train_rmse,train_mae,test_rmse,test_mae,duration,\\\n",
    "    r_user_coverage,r_item_coverage,r_catelog_coverage,\\\n",
    "    e_user_coverage,e_item_coverage,e_catelog_coverage=change_size(size,copy_ratings)\n",
    "    size_train_rmse_list.append(train_rmse)\n",
    "    size_train_mae_list.append(train_mae)\n",
    "   \n",
    "    size_test_rmse_list.append(test_rmse)\n",
    "    size_test_mae_list.append(test_mae)\n",
    "    \n",
    "    size_e_u_cov.append(e_user_coverage)\n",
    "    size_e_i_cov.append(e_item_coverage)\n",
    "    size_e_c_cov.append(e_catelog_coverage)\n",
    "    \n",
    "    size_r_u_cov.append(r_user_coverage)\n",
    "    size_r_i_cov.append(r_item_coverage)\n",
    "    size_r_c_cov.append(r_catelog_coverage)\n",
    "    \n",
    "    duration_list.append(duration)\n",
    "    print('duration is',duration)"
   ]
  },
  {
   "cell_type": "code",
   "execution_count": 0,
   "metadata": {
    "colab": {},
    "colab_type": "code",
    "collapsed": true,
    "id": "FLvbKC8Ujw0L"
   },
   "outputs": [],
   "source": [
    "sample_size_list=[1-i for i in size_list]\n",
    "model_size = pd.DataFrame()\n",
    "model_size['Sample_size']=sample_size_list\n",
    "model_size['Running_time']=duration_list\n",
    "model_size['RMSE_test']=size_test_rmse_list\n",
    "model_size['MAE_test']=size_test_mae_list\n",
    "model_size['Catalog_Coverage_test']=size_e_c_cov\n",
    "model_size['User_Coverage_test']=size_e_u_cov\n",
    "model_size['Item_Coverage_test']=size_e_i_cov\n",
    "# model_size = pd.DataFrame(\n",
    "#     {'Sample_size': sample_size_list,\n",
    "#      'Running_time': duration_list,\n",
    "#      #'RMSE_train': size_train_rmse_list,\n",
    "#      'RMSE_test': size_test_rmse_list,\n",
    "#      #'MAE_train': size_train_mae_list,\n",
    "#      'MAE_test': size_test_mae_list,\n",
    "#      #'Catalog_Coverage_train': r_catelog_coverage,\n",
    "#      'Catalog_Coverage_test': e_catelog_coverage,\n",
    "#      #'User_Coverage_train': r_user_coverage,\n",
    "#      'User_Coverage_test': e_user_coverage,\n",
    "#      #'Item_Coverage_train': r_item_coverage,\n",
    "#      'Item_Coverage_test': e_item_coverage\n",
    "#     })\n",
    "# print(model_size)"
   ]
  },
  {
   "cell_type": "markdown",
   "metadata": {},
   "source": [
    "#### Show all results in a table"
   ]
  },
  {
   "cell_type": "code",
   "execution_count": 17,
   "metadata": {
    "colab": {
     "base_uri": "https://localhost:8080/",
     "height": 368
    },
    "colab_type": "code",
    "id": "GKvwnTs-jw0N",
    "outputId": "083f66d8-3fd8-4bed-bcde-9ffc5c8eebf2"
   },
   "outputs": [
    {
     "data": {
      "text/html": [
       "<div>\n",
       "<style scoped>\n",
       "    .dataframe tbody tr th:only-of-type {\n",
       "        vertical-align: middle;\n",
       "    }\n",
       "\n",
       "    .dataframe tbody tr th {\n",
       "        vertical-align: top;\n",
       "    }\n",
       "\n",
       "    .dataframe thead th {\n",
       "        text-align: right;\n",
       "    }\n",
       "</style>\n",
       "<table border=\"1\" class=\"dataframe\">\n",
       "  <thead>\n",
       "    <tr style=\"text-align: right;\">\n",
       "      <th></th>\n",
       "      <th>Sample_size</th>\n",
       "      <th>Running_time</th>\n",
       "      <th>RMSE_test</th>\n",
       "      <th>MAE_test</th>\n",
       "      <th>Catalog_Coverage_test</th>\n",
       "      <th>User_Coverage_test</th>\n",
       "      <th>Item_Coverage_test</th>\n",
       "    </tr>\n",
       "  </thead>\n",
       "  <tbody>\n",
       "    <tr>\n",
       "      <th>0</th>\n",
       "      <td>0.9</td>\n",
       "      <td>442.430288</td>\n",
       "      <td>0.420921</td>\n",
       "      <td>0.685512</td>\n",
       "      <td>0.863362</td>\n",
       "      <td>0.170248</td>\n",
       "      <td>0.088053</td>\n",
       "    </tr>\n",
       "    <tr>\n",
       "      <th>1</th>\n",
       "      <td>0.8</td>\n",
       "      <td>376.368978</td>\n",
       "      <td>0.415579</td>\n",
       "      <td>0.687515</td>\n",
       "      <td>0.868032</td>\n",
       "      <td>0.164899</td>\n",
       "      <td>0.090135</td>\n",
       "    </tr>\n",
       "    <tr>\n",
       "      <th>2</th>\n",
       "      <td>0.7</td>\n",
       "      <td>300.517559</td>\n",
       "      <td>0.410756</td>\n",
       "      <td>0.688753</td>\n",
       "      <td>0.879892</td>\n",
       "      <td>0.163310</td>\n",
       "      <td>0.084356</td>\n",
       "    </tr>\n",
       "    <tr>\n",
       "      <th>3</th>\n",
       "      <td>0.6</td>\n",
       "      <td>225.911546</td>\n",
       "      <td>0.406459</td>\n",
       "      <td>0.692610</td>\n",
       "      <td>0.873559</td>\n",
       "      <td>0.162923</td>\n",
       "      <td>0.088475</td>\n",
       "    </tr>\n",
       "    <tr>\n",
       "      <th>4</th>\n",
       "      <td>0.5</td>\n",
       "      <td>163.902508</td>\n",
       "      <td>0.403340</td>\n",
       "      <td>0.696561</td>\n",
       "      <td>0.892588</td>\n",
       "      <td>0.168214</td>\n",
       "      <td>0.087274</td>\n",
       "    </tr>\n",
       "    <tr>\n",
       "      <th>5</th>\n",
       "      <td>0.4</td>\n",
       "      <td>110.614296</td>\n",
       "      <td>0.403032</td>\n",
       "      <td>0.700575</td>\n",
       "      <td>0.890300</td>\n",
       "      <td>0.170131</td>\n",
       "      <td>0.080032</td>\n",
       "    </tr>\n",
       "    <tr>\n",
       "      <th>6</th>\n",
       "      <td>0.3</td>\n",
       "      <td>73.140638</td>\n",
       "      <td>0.402568</td>\n",
       "      <td>0.713519</td>\n",
       "      <td>0.908629</td>\n",
       "      <td>0.180743</td>\n",
       "      <td>0.096568</td>\n",
       "    </tr>\n",
       "    <tr>\n",
       "      <th>7</th>\n",
       "      <td>0.2</td>\n",
       "      <td>43.750142</td>\n",
       "      <td>0.405119</td>\n",
       "      <td>0.737185</td>\n",
       "      <td>0.931102</td>\n",
       "      <td>0.183816</td>\n",
       "      <td>0.096406</td>\n",
       "    </tr>\n",
       "    <tr>\n",
       "      <th>8</th>\n",
       "      <td>0.1</td>\n",
       "      <td>23.693559</td>\n",
       "      <td>0.405444</td>\n",
       "      <td>0.823369</td>\n",
       "      <td>0.972909</td>\n",
       "      <td>0.191933</td>\n",
       "      <td>0.091353</td>\n",
       "    </tr>\n",
       "  </tbody>\n",
       "</table>\n",
       "</div>"
      ],
      "text/plain": [
       "   Sample_size  Running_time  ...  User_Coverage_test  Item_Coverage_test\n",
       "0          0.9    442.430288  ...            0.170248            0.088053\n",
       "1          0.8    376.368978  ...            0.164899            0.090135\n",
       "2          0.7    300.517559  ...            0.163310            0.084356\n",
       "3          0.6    225.911546  ...            0.162923            0.088475\n",
       "4          0.5    163.902508  ...            0.168214            0.087274\n",
       "5          0.4    110.614296  ...            0.170131            0.080032\n",
       "6          0.3     73.140638  ...            0.180743            0.096568\n",
       "7          0.2     43.750142  ...            0.183816            0.096406\n",
       "8          0.1     23.693559  ...            0.191933            0.091353\n",
       "\n",
       "[9 rows x 7 columns]"
      ]
     },
     "execution_count": 17,
     "metadata": {
      "tags": []
     },
     "output_type": "execute_result"
    }
   ],
   "source": [
    "model_size"
   ]
  },
  {
   "cell_type": "markdown",
   "metadata": {},
   "source": [
    "### Plot graph"
   ]
  },
  {
   "cell_type": "code",
   "execution_count": 42,
   "metadata": {
    "colab": {
     "base_uri": "https://localhost:8080/",
     "height": 295
    },
    "colab_type": "code",
    "id": "2KZwM_yz5Klh",
    "outputId": "d49a0a02-96ad-45f0-aaae-2883c4c41870"
   },
   "outputs": [
    {
     "data": {
      "image/png": "[encoded data removed]",
      "text/plain": [
       "<Figure size 432x288 with 1 Axes>"
      ]
     },
     "metadata": {
      "tags": []
     },
     "output_type": "display_data"
    }
   ],
   "source": [
    "\n",
    "lines = plt.plot(sample_size_list,duration_list)\n",
    "plt.setp(lines[0], linewidth=4)\n",
    "#plt.setp(lines[1], linewidth=2)\n",
    "#plt.setp(lines[2], markersize=10)\n",
    "\n",
    "\n",
    "plt.xlabel('sample size (proportion)')\n",
    "plt.ylabel('running time (in second)')\n",
    "plt.title('Sample Size vs Running Time')\n",
    "plt.savefig('S vs time')\n",
    "plt.show()"
   ]
  },
  {
   "cell_type": "code",
   "execution_count": 45,
   "metadata": {
    "colab": {
     "base_uri": "https://localhost:8080/",
     "height": 295
    },
    "colab_type": "code",
    "id": "GyiB3sj36cLI",
    "outputId": "1b954520-8bdd-4660-c812-8ab744241666"
   },
   "outputs": [
    {
     "data": {
      "image/png": "[encoded data removed]",
      "text/plain": [
       "<Figure size 432x288 with 1 Axes>"
      ]
     },
     "metadata": {
      "tags": []
     },
     "output_type": "display_data"
    }
   ],
   "source": [
    "lines = plt.plot(sample_size_list,size_test_rmse_list)\n",
    "plt.setp(lines[0], linewidth=4)\n",
    "#plt.setp(lines[1], linewidth=2)\n",
    "#plt.setp(lines[2], markersize=10)\n",
    "\n",
    "\n",
    "plt.xlabel('sample size (proportion)')\n",
    "plt.ylabel('RMSE')\n",
    "plt.title('Sample Size vs RMSE')\n",
    "plt.savefig('S vs RMSE')\n",
    "plt.show()"
   ]
  },
  {
   "cell_type": "code",
   "execution_count": 0,
   "metadata": {
    "colab": {},
    "colab_type": "code",
    "collapsed": true,
    "id": "dTGlIcsajw0Q"
   },
   "outputs": [],
   "source": [
    "model_size.to_csv('model_size.csv',index=False)"
   ]
  }
 ],
 "metadata": {
  "colab": {
   "collapsed_sections": [],
   "name": "personalization--knn.ipynb",
   "provenance": [],
   "toc_visible": true
  },
  "kernelspec": {
   "display_name": "Python 2",
   "language": "python",
   "name": "python2"
  },
  "language_info": {
   "codemirror_mode": {
    "name": "ipython",
    "version": 2
   },
   "file_extension": ".py",
   "mimetype": "text/x-python",
   "name": "python",
   "nbconvert_exporter": "python",
   "pygments_lexer": "ipython2",
   "version": "2.7.14"
  }
 },
 "nbformat": 4,
 "nbformat_minor": 1
}
