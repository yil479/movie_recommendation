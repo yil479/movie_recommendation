{
 "cells": [
  {
   "cell_type": "code",
   "execution_count": 1,
   "metadata": {
    "collapsed": true
   },
   "outputs": [],
   "source": [
    "import pandas as pd\n",
    "import numpy as np\n",
    "import matplotlib.pyplot as plt\n",
    "from surprise import Dataset, evaluate\n",
    "from surprise import KNNBasic, KNNBaseline\n",
    "from surprise import Reader\n",
    "from surprise import accuracy"
   ]
  },
  {
   "cell_type": "code",
   "execution_count": 53,
   "metadata": {
    "collapsed": true
   },
   "outputs": [],
   "source": [
    "rating_df=pd.read_csv('ml-20m/ratings.csv')"
   ]
  },
  {
   "cell_type": "code",
   "execution_count": 54,
   "metadata": {
    "collapsed": true
   },
   "outputs": [],
   "source": [
    "rating_df=rating_df.drop(['timestamp'],axis=1)"
   ]
  },
  {
   "cell_type": "code",
   "execution_count": 42,
   "metadata": {},
   "outputs": [
    {
     "data": {
      "text/html": [
       "<div>\n",
       "<style scoped>\n",
       "    .dataframe tbody tr th:only-of-type {\n",
       "        vertical-align: middle;\n",
       "    }\n",
       "\n",
       "    .dataframe tbody tr th {\n",
       "        vertical-align: top;\n",
       "    }\n",
       "\n",
       "    .dataframe thead th {\n",
       "        text-align: right;\n",
       "    }\n",
       "</style>\n",
       "<table border=\"1\" class=\"dataframe\">\n",
       "  <thead>\n",
       "    <tr style=\"text-align: right;\">\n",
       "      <th></th>\n",
       "      <th>userId</th>\n",
       "      <th>movieId</th>\n",
       "      <th>rating</th>\n",
       "    </tr>\n",
       "  </thead>\n",
       "  <tbody>\n",
       "    <tr>\n",
       "      <th>0</th>\n",
       "      <td>1</td>\n",
       "      <td>2</td>\n",
       "      <td>3.5</td>\n",
       "    </tr>\n",
       "    <tr>\n",
       "      <th>1</th>\n",
       "      <td>1</td>\n",
       "      <td>29</td>\n",
       "      <td>3.5</td>\n",
       "    </tr>\n",
       "    <tr>\n",
       "      <th>2</th>\n",
       "      <td>1</td>\n",
       "      <td>32</td>\n",
       "      <td>3.5</td>\n",
       "    </tr>\n",
       "    <tr>\n",
       "      <th>3</th>\n",
       "      <td>1</td>\n",
       "      <td>47</td>\n",
       "      <td>3.5</td>\n",
       "    </tr>\n",
       "    <tr>\n",
       "      <th>4</th>\n",
       "      <td>1</td>\n",
       "      <td>50</td>\n",
       "      <td>3.5</td>\n",
       "    </tr>\n",
       "  </tbody>\n",
       "</table>\n",
       "</div>"
      ],
      "text/plain": [
       "   userId  movieId  rating\n",
       "0       1        2     3.5\n",
       "1       1       29     3.5\n",
       "2       1       32     3.5\n",
       "3       1       47     3.5\n",
       "4       1       50     3.5"
      ]
     },
     "execution_count": 42,
     "metadata": {},
     "output_type": "execute_result"
    }
   ],
   "source": [
    "rating_df.head()"
   ]
  },
  {
   "cell_type": "code",
   "execution_count": 45,
   "metadata": {},
   "outputs": [
    {
     "name": "stdout",
     "output_type": "stream",
     "text": [
      "('maximum number of rating a movie has', 67310)\n",
      "('minimum number of rating a movie has', 1)\n"
     ]
    }
   ],
   "source": [
    "print('maximum number of rating a movie has',max(rating_df['movieId'].value_counts()))\n",
    "print('minimum number of rating a movie has',min(rating_df['movieId'].value_counts()))"
   ]
  },
  {
   "cell_type": "code",
   "execution_count": 46,
   "metadata": {},
   "outputs": [
    {
     "name": "stdout",
     "output_type": "stream",
     "text": [
      "('maximum number of movies a user rated', 9254)\n",
      "('minimum number of movies a user rated', 20)\n"
     ]
    }
   ],
   "source": [
    "print('maximum number of movies a user rated',max(rating_df['userId'].value_counts()))\n",
    "print('minimum number of movies a user rated',min(rating_df['userId'].value_counts()))"
   ]
  },
  {
   "cell_type": "markdown",
   "metadata": {},
   "source": [
    "### Plot rating distribution"
   ]
  },
  {
   "cell_type": "code",
   "execution_count": 47,
   "metadata": {},
   "outputs": [
    {
     "data": {
      "image/png": "[encoded data removed]",
      "text/plain": [
       "<matplotlib.figure.Figure at 0x111974b10>"
      ]
     },
     "metadata": {},
     "output_type": "display_data"
    }
   ],
   "source": [
    "rating_freq=rating_df['userId'].value_counts()\n",
    "df = pd.DataFrame(rating_freq).reset_index()\n",
    "df.columns = ['userId', 'count']\n",
    "plt.hist(df['count'],bins=50)\n",
    "plt.show()"
   ]
  },
  {
   "cell_type": "markdown",
   "metadata": {},
   "source": [
    "#### First, we delete those movies that has the number of ratings less than 5."
   ]
  },
  {
   "cell_type": "code",
   "execution_count": 55,
   "metadata": {
    "collapsed": true
   },
   "outputs": [],
   "source": [
    "movieid=rating_df['movieId'].value_counts()\n",
    "movieid = pd.DataFrame(movieid).reset_index()\n",
    "movieid.columns = ['movieId', 'count']\n",
    "movieId_5=movieid.loc[movieid['count']<=5]\n",
    "rating_del=rating_df.loc[~rating_df['movieId'].isin(movieId_5['movieId'])]"
   ]
  },
  {
   "cell_type": "markdown",
   "metadata": {},
   "source": [
    "### Since we need to subsample the dataset, we decide to choose up to 10000 users. We choose the number of ratings in different ranges based on the proportion of that range in total dataset."
   ]
  },
  {
   "cell_type": "code",
   "execution_count": 56,
   "metadata": {},
   "outputs": [
    {
     "name": "stdout",
     "output_type": "stream",
     "text": [
      "('frequency_of rate count between 40 and 50', 0.3841710411356531)\n",
      "('frequency_of rate count between 50 and 100', 0.2361057959608067)\n",
      "('frequency_of rate count between 100 and 500', 0.32567711003444216)\n",
      "('frequency_of rate count between 500 and 1000', 0.04044247723711668)\n",
      "('frequency_of rate count larger than 1000', 0.0136035756319814)\n"
     ]
    }
   ],
   "source": [
    "#rating_del=rating_df\n",
    "num_user=10000\n",
    "rating_freq=rating_del['userId'].value_counts()\n",
    "df = pd.DataFrame(rating_freq).reset_index()\n",
    "df.columns = ['userId', 'count']\n",
    "df_50=df.loc[(df['count']<50)&(40<=df['count'])]\n",
    "use_df_50=df.loc[df['count']<50]\n",
    "freq_50=len(use_df_50)/float(len(df['count']))\n",
    "print('frequency_of rate count between 40 and 50',freq_50)\n",
    "\n",
    "df_50_100=df.loc[(df['count']<100) & (50<=df['count'])]\n",
    "freq_50_100=len(df_50_100)/float(len(df['count']))\n",
    "print('frequency_of rate count between 50 and 100',freq_50_100)\n",
    "\n",
    "df_100_500=df.loc[(df['count']<500) & (100<=df['count'])]\n",
    "freq_100_500=len(df_100_500)/float(len(df['count']))\n",
    "print('frequency_of rate count between 100 and 500',freq_100_500)\n",
    "\n",
    "df_500_1000=df.loc[(df['count']<1000) & (500<=df['count'])]\n",
    "freq_500_1000=len(df_500_1000)/float(len(df['count']))\n",
    "print('frequency_of rate count between 500 and 1000',freq_500_1000)\n",
    "\n",
    "df_1000=df.loc[1000<=df['count']]\n",
    "freq_1000=len(df_1000)/float(len(df['count']))\n",
    "print('frequency_of rate count larger than 1000',freq_1000)\n",
    "\n",
    "df_trimmed_50=df_50.sample(n = int(num_user*freq_50))\n",
    "df_trimmed_50_100=df_50_100.sample(n = int(num_user*freq_50_100))\n",
    "df_trimmed_100_500=df_100_500.sample(n = int(num_user*freq_100_500))\n",
    "df_trimmed_500_1000=df_500_1000.sample(n = int(num_user*freq_500_1000))\n",
    "df_trimmed_1000=df_1000.sample(n = int(num_user*freq_1000))\n",
    "rating_50=rating_del.loc[rating_del['userId'].isin(df_trimmed_50['userId'])]\n",
    "rating_50_100=rating_del.loc[rating_del['userId'].isin(df_trimmed_50_100['userId'])]\n",
    "rating_100_500=rating_del.loc[rating_del['userId'].isin(df_trimmed_100_500['userId'])]\n",
    "rating_500_1000=rating_del.loc[rating_del['userId'].isin(df_trimmed_500_1000['userId'])]\n",
    "rating_1000=rating_del.loc[rating_del['userId'].isin(df_trimmed_1000['userId'])]\n",
    "result = pd.concat([rating_50, rating_50_100,rating_100_500,rating_500_1000,rating_1000], axis=0, sort=False)"
   ]
  },
  {
   "cell_type": "markdown",
   "metadata": {},
   "source": [
    "#### We also want to eliminate the number of minimum ratings a movie has, so we decide to delete those movies which have total number of ratings less than 20."
   ]
  },
  {
   "cell_type": "code",
   "execution_count": 89,
   "metadata": {
    "collapsed": true
   },
   "outputs": [],
   "source": [
    "movieid=result['movieId'].value_counts()\n",
    "movieid = pd.DataFrame(movieid).reset_index()\n",
    "movieid.columns = ['movieId', 'count']\n",
    "movieId_5=movieid.loc[movieid['count']<=20]\n",
    "final_df=result.loc[~result['movieId'].isin(movieId_5['movieId'])]"
   ]
  },
  {
   "cell_type": "code",
   "execution_count": 36,
   "metadata": {
    "collapsed": true
   },
   "outputs": [],
   "source": [
    "import random"
   ]
  },
  {
   "cell_type": "markdown",
   "metadata": {},
   "source": [
    "#### Then we randomly choose 3000 different movies in our current dataset."
   ]
  },
  {
   "cell_type": "code",
   "execution_count": 90,
   "metadata": {},
   "outputs": [],
   "source": [
    "random.seed(10)\n",
    "movieid_count=final_df['movieId'].value_counts().reset_index()\n",
    "use_movieid=random.sample(movieid_count['index'], 3000)\n",
    "final_df_2=final_df.loc[final_df['movieId'].isin(use_movieid)]"
   ]
  },
  {
   "cell_type": "markdown",
   "metadata": {},
   "source": [
    "### we reindex the movieId and userId so the index starts from 1."
   ]
  },
  {
   "cell_type": "code",
   "execution_count": 91,
   "metadata": {
    "collapsed": true
   },
   "outputs": [],
   "source": [
    "ratings=final_df_2"
   ]
  },
  {
   "cell_type": "code",
   "execution_count": 92,
   "metadata": {},
   "outputs": [
    {
     "name": "stderr",
     "output_type": "stream",
     "text": [
      "/anaconda2/lib/python2.7/site-packages/ipykernel_launcher.py:1: SettingWithCopyWarning: \n",
      "A value is trying to be set on a copy of a slice from a DataFrame.\n",
      "Try using .loc[row_indexer,col_indexer] = value instead\n",
      "\n",
      "See the caveats in the documentation: http://pandas.pydata.org/pandas-docs/stable/indexing.html#indexing-view-versus-copy\n",
      "  \"\"\"Entry point for launching an IPython kernel.\n",
      "/anaconda2/lib/python2.7/site-packages/ipykernel_launcher.py:2: SettingWithCopyWarning: \n",
      "A value is trying to be set on a copy of a slice from a DataFrame.\n",
      "Try using .loc[row_indexer,col_indexer] = value instead\n",
      "\n",
      "See the caveats in the documentation: http://pandas.pydata.org/pandas-docs/stable/indexing.html#indexing-view-versus-copy\n",
      "  \n"
     ]
    }
   ],
   "source": [
    "ratings['Rank'] = ratings.userId.rank(method='dense').astype(int)\n",
    "ratings['userId']=ratings['Rank']\n",
    "ratings=ratings.drop(['Rank'],axis=1)\n",
    "ratings['Rank'] = ratings.movieId.rank(method='dense').astype(int)\n",
    "ratings['movieId']=ratings['Rank']\n",
    "ratings=ratings.drop(['Rank'],axis=1)"
   ]
  },
  {
   "cell_type": "code",
   "execution_count": 93,
   "metadata": {
    "collapsed": true
   },
   "outputs": [],
   "source": [
    "ratings=ratings.reset_index()\n",
    "ratings=ratings.drop(['index'],axis=1)"
   ]
  },
  {
   "cell_type": "code",
   "execution_count": 64,
   "metadata": {},
   "outputs": [
    {
     "data": {
      "text/html": [
       "<div>\n",
       "<style scoped>\n",
       "    .dataframe tbody tr th:only-of-type {\n",
       "        vertical-align: middle;\n",
       "    }\n",
       "\n",
       "    .dataframe tbody tr th {\n",
       "        vertical-align: top;\n",
       "    }\n",
       "\n",
       "    .dataframe thead th {\n",
       "        text-align: right;\n",
       "    }\n",
       "</style>\n",
       "<table border=\"1\" class=\"dataframe\">\n",
       "  <thead>\n",
       "    <tr style=\"text-align: right;\">\n",
       "      <th></th>\n",
       "      <th>userId</th>\n",
       "      <th>movieId</th>\n",
       "      <th>rating</th>\n",
       "    </tr>\n",
       "  </thead>\n",
       "  <tbody>\n",
       "    <tr>\n",
       "      <th>0</th>\n",
       "      <td>3</td>\n",
       "      <td>8</td>\n",
       "      <td>3.0</td>\n",
       "    </tr>\n",
       "    <tr>\n",
       "      <th>1</th>\n",
       "      <td>3</td>\n",
       "      <td>16</td>\n",
       "      <td>4.0</td>\n",
       "    </tr>\n",
       "    <tr>\n",
       "      <th>2</th>\n",
       "      <td>3</td>\n",
       "      <td>51</td>\n",
       "      <td>2.0</td>\n",
       "    </tr>\n",
       "    <tr>\n",
       "      <th>3</th>\n",
       "      <td>3</td>\n",
       "      <td>56</td>\n",
       "      <td>3.0</td>\n",
       "    </tr>\n",
       "    <tr>\n",
       "      <th>4</th>\n",
       "      <td>3</td>\n",
       "      <td>59</td>\n",
       "      <td>2.0</td>\n",
       "    </tr>\n",
       "  </tbody>\n",
       "</table>\n",
       "</div>"
      ],
      "text/plain": [
       "   userId  movieId  rating\n",
       "0       3        8     3.0\n",
       "1       3       16     4.0\n",
       "2       3       51     2.0\n",
       "3       3       56     3.0\n",
       "4       3       59     2.0"
      ]
     },
     "execution_count": 64,
     "metadata": {},
     "output_type": "execute_result"
    }
   ],
   "source": [
    "ratings.head()"
   ]
  },
  {
   "cell_type": "markdown",
   "metadata": {},
   "source": [
    "#### Let's check the current distribution of dataset."
   ]
  },
  {
   "cell_type": "code",
   "execution_count": 65,
   "metadata": {},
   "outputs": [
    {
     "name": "stdout",
     "output_type": "stream",
     "text": [
      "('maximum number of rating a movie has', 5225)\n",
      "('minimum number of rating a movie has', 21)\n"
     ]
    }
   ],
   "source": [
    "print('maximum number of rating a movie has',max(ratings['movieId'].value_counts()))\n",
    "print('minimum number of rating a movie has',min(ratings['movieId'].value_counts()))"
   ]
  },
  {
   "cell_type": "code",
   "execution_count": 66,
   "metadata": {},
   "outputs": [
    {
     "name": "stdout",
     "output_type": "stream",
     "text": [
      "('maximum number of movies a user rated', 1497)\n",
      "('minimum number of movies a user rated', 8)\n"
     ]
    }
   ],
   "source": [
    "print('maximum number of movies a user rated',max(ratings['userId'].value_counts()))\n",
    "print('minimum number of movies a user rated',min(ratings['userId'].value_counts()))"
   ]
  },
  {
   "cell_type": "code",
   "execution_count": 76,
   "metadata": {},
   "outputs": [
    {
     "data": {
      "text/plain": [
       "9998"
      ]
     },
     "execution_count": 76,
     "metadata": {},
     "output_type": "execute_result"
    }
   ],
   "source": [
    "len(ratings['userId'].value_counts())"
   ]
  },
  {
   "cell_type": "code",
   "execution_count": 77,
   "metadata": {},
   "outputs": [
    {
     "data": {
      "text/plain": [
       "3000"
      ]
     },
     "execution_count": 77,
     "metadata": {},
     "output_type": "execute_result"
    }
   ],
   "source": [
    "len(ratings['movieId'].value_counts())"
   ]
  },
  {
   "cell_type": "markdown",
   "metadata": {},
   "source": [
    "#### We have 9998 users and 3000 movies"
   ]
  },
  {
   "cell_type": "code",
   "execution_count": 72,
   "metadata": {},
   "outputs": [
    {
     "data": {
      "image/png": "[encoded data removed]",
      "text/plain": [
       "<matplotlib.figure.Figure at 0x11159eb50>"
      ]
     },
     "metadata": {},
     "output_type": "display_data"
    }
   ],
   "source": [
    "rating_freq_user=ratings['userId'].value_counts()\n",
    "df = pd.DataFrame(rating_freq_user).reset_index()\n",
    "df.columns = ['userId', 'count']\n",
    "plt.hist(df['count'],bins=50)\n",
    "plt.xlabel('UserId')\n",
    "plt.ylabel('The number of movies a user rated')\n",
    "plt.savefig('User.jpg')\n",
    "plt.show()"
   ]
  },
  {
   "cell_type": "code",
   "execution_count": 71,
   "metadata": {},
   "outputs": [
    {
     "data": {
      "image/png": "[encoded data removed]",
      "text/plain": [
       "<matplotlib.figure.Figure at 0x1068aa290>"
      ]
     },
     "metadata": {},
     "output_type": "display_data"
    }
   ],
   "source": [
    "rating_freq_user=ratings['movieId'].value_counts()\n",
    "df = pd.DataFrame(rating_freq_user).reset_index()\n",
    "df.columns = ['userId', 'count']\n",
    "plt.hist(df['count'],bins=50)\n",
    "plt.xlabel('MovieId')\n",
    "plt.ylabel('The number of ratings a movie has')\n",
    "plt.savefig('movie.jpg')\n",
    "plt.show()"
   ]
  },
  {
   "cell_type": "markdown",
   "metadata": {},
   "source": [
    "#### we can see that the distribution of the number of movies a user rated is similar with the original dataset, so we preserve this distribution "
   ]
  },
  {
   "cell_type": "code",
   "execution_count": 38,
   "metadata": {
    "collapsed": true
   },
   "outputs": [],
   "source": [
    "ratings.to_csv('subsample_data_3.csv',index=False)"
   ]
  },
  {
   "cell_type": "code",
   "execution_count": 78,
   "metadata": {},
   "outputs": [
    {
     "name": "stdout",
     "output_type": "stream",
     "text": [
      "('minimum_rating', 0.5)\n",
      "('maximum_rating', 5.0)\n"
     ]
    }
   ],
   "source": [
    "print('minimum_rating',min(ratings['rating']))\n",
    "print('maximum_rating',max(ratings['rating']))"
   ]
  },
  {
   "cell_type": "code",
   "execution_count": 84,
   "metadata": {
    "collapsed": true
   },
   "outputs": [],
   "source": [
    "from sklearn.model_selection import train_test_split"
   ]
  },
  {
   "cell_type": "code",
   "execution_count": 94,
   "metadata": {},
   "outputs": [],
   "source": [
    "train, test= train_test_split(ratings, test_size=0.2, random_state=42)"
   ]
  },
  {
   "cell_type": "code",
   "execution_count": 96,
   "metadata": {},
   "outputs": [],
   "source": [
    "train.to_csv('train_data.csv',index=False)\n",
    "test.to_csv('test_data.csv',index=False)"
   ]
  },
  {
   "cell_type": "code",
   "execution_count": null,
   "metadata": {
    "collapsed": true
   },
   "outputs": [],
   "source": []
  }
 ],
 "metadata": {
  "kernelspec": {
   "display_name": "Python 2",
   "language": "python",
   "name": "python2"
  },
  "language_info": {
   "codemirror_mode": {
    "name": "ipython",
    "version": 2
   },
   "file_extension": ".py",
   "mimetype": "text/x-python",
   "name": "python",
   "nbconvert_exporter": "python",
   "pygments_lexer": "ipython2",
   "version": "2.7.14"
  }
 },
 "nbformat": 4,
 "nbformat_minor": 2
}
